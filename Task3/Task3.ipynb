{
 "cells": [
  {
   "cell_type": "markdown",
   "id": "91612fbf",
   "metadata": {},
   "source": [
    "## Задание (вопрос 3)\n",
    "Есть сундук, из которого могут выпасть предметы трех типов. Из каждого сундука выпадает ровно один предмет. Вероятности выпадения предметов каждого типа одинаковы. Игрок при успешном прохождении ивента имеет возможность открыть 6 таких сундуков. Игрок собирает полный сет, если у него есть предметы всех трех различных типов. Найти вероятность получения игроком полного сета после успешного прохождения ивента."
   ]
  },
  {
   "cell_type": "code",
   "execution_count": 1,
   "id": "309eb908",
   "metadata": {},
   "outputs": [],
   "source": [
    "import numpy as np"
   ]
  },
  {
   "cell_type": "code",
   "execution_count": 2,
   "id": "53669413",
   "metadata": {},
   "outputs": [],
   "source": [
    "n = 100000\n",
    "m = 6"
   ]
  },
  {
   "cell_type": "markdown",
   "id": "c0da15f8",
   "metadata": {},
   "source": [
    "Будем считать, что если нам выпадает число в интервале\n",
    "* (0, 1/3], то это означает выпадение предмета 1-го типа,\n",
    "* (1/3, 2/3], то это означает выпадение предмета 2-го типа,\n",
    "* (2/3, 1], то это означает выпадение предмета 3-го типа.\n",
    "\n",
    "Проведем n экспериментов для m=6 сундуков и посчитаем, сколько раз (обозначим за k) выпадет набор из 3-х различных предметов."
   ]
  },
  {
   "cell_type": "code",
   "execution_count": 3,
   "id": "26e3110b",
   "metadata": {},
   "outputs": [],
   "source": [
    "k = 0\n",
    "for i in np.arange(0, n, 1):\n",
    "    count = 0\n",
    "    p = np.random.uniform(0, 1, m)\n",
    "    if (p[p <= 1/3.0].size > 0):\n",
    "        count = count + 1\n",
    "    if (p[(p > 1/3.0) & (p <= 2/3.0)].size > 0):\n",
    "        count = count + 1\n",
    "    if (p[p > 2/3.0].size > 0):\n",
    "        count = count + 1\n",
    "    if count == 3:\n",
    "        k = k + 1"
   ]
  },
  {
   "cell_type": "markdown",
   "id": "d85c80d0",
   "metadata": {},
   "source": [
    "Тогда эмпирическая вероятность:"
   ]
  },
  {
   "cell_type": "code",
   "execution_count": 4,
   "id": "2dd09e52",
   "metadata": {},
   "outputs": [
    {
     "data": {
      "text/plain": [
       "0.73993"
      ]
     },
     "execution_count": 4,
     "metadata": {},
     "output_type": "execute_result"
    }
   ],
   "source": [
    "k/n"
   ]
  },
  {
   "cell_type": "markdown",
   "id": "01da7085",
   "metadata": {},
   "source": [
    "Для проверки сгенерируем всевозможные исходы события и посчитаем их количество."
   ]
  },
  {
   "cell_type": "code",
   "execution_count": 8,
   "id": "986d901b",
   "metadata": {},
   "outputs": [
    {
     "name": "stdout",
     "output_type": "stream",
     "text": [
      "729\n"
     ]
    }
   ],
   "source": [
    "import itertools\n",
    "\n",
    "x = [1, 2, 3] \n",
    "\n",
    "a = np.array([p for p in itertools.product(x, repeat = 6)])\n",
    "    \n",
    "print(len(a))"
   ]
  },
  {
   "cell_type": "markdown",
   "id": "411d6b02",
   "metadata": {},
   "source": [
    "Посчитаем количество благоприятных исходов."
   ]
  },
  {
   "cell_type": "code",
   "execution_count": 9,
   "id": "3c33e076",
   "metadata": {},
   "outputs": [],
   "source": [
    "count = 0\n",
    "for elm in a:\n",
    "    if set(x).issubset(elm):\n",
    "        count = count + 1"
   ]
  },
  {
   "cell_type": "markdown",
   "id": "37294ae9",
   "metadata": {},
   "source": [
    "Тогда теоретическая вероятность:"
   ]
  },
  {
   "cell_type": "code",
   "execution_count": 10,
   "id": "12001efc",
   "metadata": {},
   "outputs": [
    {
     "data": {
      "text/plain": [
       "0.7407407407407407"
      ]
     },
     "execution_count": 10,
     "metadata": {},
     "output_type": "execute_result"
    }
   ],
   "source": [
    "count/len(a)"
   ]
  },
  {
   "cell_type": "markdown",
   "id": "0cb5e407",
   "metadata": {},
   "source": [
    "## Вывод:\n",
    "таким образом, вероятность получения игроком полного сета после успешного прохождения ивента составляет 0.74. Данный результат был получен эмпирически и проверен теоретически."
   ]
  }
 ],
 "metadata": {
  "kernelspec": {
   "display_name": "Python 3 (ipykernel)",
   "language": "python",
   "name": "python3"
  },
  "language_info": {
   "codemirror_mode": {
    "name": "ipython",
    "version": 3
   },
   "file_extension": ".py",
   "mimetype": "text/x-python",
   "name": "python",
   "nbconvert_exporter": "python",
   "pygments_lexer": "ipython3",
   "version": "3.9.12"
  }
 },
 "nbformat": 4,
 "nbformat_minor": 5
}
